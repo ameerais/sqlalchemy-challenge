# Import dependencies
import pandas as pd
import numpy as np
from sqlalchemy import create_engine, func
from sqlalchemy.ext.automap import automap_base
from sqlalchemy.orm import Session
import matplotlib.pyplot as plt

# Create the engine to connect to the SQLite database
engine = create_engine("sqlite:///SurfsUp/Resources/hawaii.sqlite")

# Reflect the database into a new model
Base = automap_base()
Base.prepare(engine, reflect=True)

# Save references to each table
Measurement = Base.classes.measurement
Station = Base.classes.station

# Create a session to link Python to the database
session = Session(engine)

# Precipitation Analysis
# Find the most recent date in the data set
recent_date = session.query(Measurement.date).order_by(Measurement.date.desc()).first()[0]
print(f"The most recent date in the dataset is: {recent_date}")

# Calculate the date one year ago from the most recent date
one_year_ago = pd.to_datetime(recent_date) - pd.DateOffset(years=1)
print(f"One year before the most recent date is: {one_year_ago}")

# Query the last 12 months of precipitation data
precipitation_data = session.query(Measurement.date, Measurement.prcp).filter(Measurement.date >= one_year_ago).all()

# Load the query results into a DataFrame and set the column names
precipitation_df = pd.DataFrame(precipitation_data, columns=['date', 'prcp'])

# Set the index to the date column
precipitation_df.set_index('date', inplace=True)

# Sort the DataFrame by date
precipitation_df.sort_index(inplace=True)

# Plot the results
precipitation_df.plot(rot=45)
plt.ylabel("Inches")
plt.title("Precipitation in the Last 12 Months")
plt.show()

# Print the summary statistics for the precipitation data
precipitation_df.describe()

# Station Analysis
# Design a query to calculate the total number of stations
total_stations = session.query(func.count(Station.station)).first()[0]
print(f"Total number of stations: {total_stations}")

# Design a query to find the most active station
active_stations = session.query(Measurement.station, func.count(Measurement.station)).group_by(Measurement.station).order_by(func.count(Measurement.station).desc()).all()
most_active_station = active_stations[0][0]
print(f"Most active station: {most_active_station}")

# Get the minimum, maximum, and average temperature for the most active station
temps = session.query(func.min(Measurement.tobs), func.avg(Measurement.tobs), func.max(Measurement.tobs)).filter(Measurement.station == most_active_station).all()
print(f"Temperature data for the most active station: Min={temps[0][0]}, Avg={temps[0][1]}, Max={temps[0][2]}")

# Query the last 12 months of temperature observation data for this station
temp_data = session.query(Measurement.tobs).filter(Measurement.station == most_active_station).filter(Measurement.date >= one_year_ago).all()

# Load the query results into a DataFrame and plot a histogram
temp_df = pd.DataFrame(temp_data, columns=['tobs'])
temp_df.plot.hist(bins=12)
plt.xlabel("Temperature Observations")
plt.title("Temperature Observations for the Most Active Station")
plt.show()

# Close the session
session.close()
